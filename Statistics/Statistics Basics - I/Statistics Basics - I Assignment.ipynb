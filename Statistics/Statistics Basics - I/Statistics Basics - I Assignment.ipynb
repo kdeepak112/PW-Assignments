{
 "cells": [
  {
   "cell_type": "markdown",
   "id": "07a0d70e",
   "metadata": {},
   "source": [
    "Q1. What is Statistics?"
   ]
  },
  {
   "cell_type": "markdown",
   "id": "3e7f0fd1",
   "metadata": {},
   "source": [
    "Ans : Statistics is the science of collecting , organizing and summarizing data for the sake making conclusions and acting upon on the same."
   ]
  },
  {
   "cell_type": "markdown",
   "id": "fddada30",
   "metadata": {},
   "source": [
    "Q2. Define the different types of statistics and give an example of when each type might be used."
   ]
  },
  {
   "cell_type": "markdown",
   "id": "fc650f3b",
   "metadata": {},
   "source": [
    "Ans : Following are the types of statistics\n",
    "1. Descriptive statistics - the activity of summarizing and orgainizing data falls in this. This is done at the base level once the data is made avaialaible. It provides the view of data on various levels and on different aggregate levels. Example includes measure of central tendency , measure of dispersion , graphical visualization\n",
    "\n",
    "2. Inferential Statistics - the activity of making inferences and coclusion of the organizaed and summarized data comes in this. It includes hypothesis testing , and lot more\n"
   ]
  },
  {
   "cell_type": "markdown",
   "id": "7a81d12e",
   "metadata": {},
   "source": [
    "Q3. What are the different types of data and how do they differ from each other? Provide an example of\n",
    "each type of data."
   ]
  },
  {
   "cell_type": "markdown",
   "id": "ecf333de",
   "metadata": {},
   "source": [
    "Ans : \n",
    "    The following are the different types of data\n",
    "    1. Qualitative data  - categorical kind of data comes in this. It has two types\n",
    "        a. nominal data - categorical data with no order. eg - blood group , gender\n",
    "            b. ordinal data - categorical data with special mention to rank or order. eg - results , gdp rank\n",
    "    2. Quantitative data - numerical kind of data comes in this. It has two types\n",
    "        a. discrete - data that contains whole numbers. eg - siblings , population\n",
    "        b. continuos - data that contains decimal values. eg - bank balance"
   ]
  },
  {
   "cell_type": "markdown",
   "id": "c8daf7ce",
   "metadata": {},
   "source": [
    "Q4. Categorise the following datasets with respect to quantitative and qualitative data types:\n",
    "(i) Grading in exam: A+, A, B+, B, C+, C, D, E - ordinal\n",
    "(ii) Colour of mangoes: yellow, green, orange, red - nominal\n",
    "(iii) Height data of a class: [178.9, 179, 179.5, 176, 177.2, 178.3, 175.8,...] - continuous\n",
    "(iv) Number of mangoes exported by a farm: [500, 600, 478, 672, ...] - discrete"
   ]
  },
  {
   "cell_type": "markdown",
   "id": "9041b675",
   "metadata": {},
   "source": [
    "Q5. Explain the concept of levels of measurement and give an example of a variable for each level."
   ]
  },
  {
   "cell_type": "markdown",
   "id": "c14a3a29",
   "metadata": {},
   "source": [
    "   Nominal Level: Nominal data represent categories or labels with no inherent order. They are used for qualitative data. Examples include:\n",
    "        Types of fruits (e.g., apples, bananas, oranges)\n",
    "        Colors (e.g., red, green, blue)\n",
    "\n",
    "   Ordinal Level: Ordinal data have categories with a meaningful order or ranking, but the differences between them are not consistent or quantifiable. Examples include:\n",
    "        Education levels (e.g., high school, bachelor's, master's)\n",
    "        Customer satisfaction ratings (e.g., very unsatisfied, unsatisfied, neutral, satisfied, very satisfied)\n",
    "\n",
    "   Interval Level: Interval data have ordered categories with consistent intervals between them, but there is no true zero point. Examples include:\n",
    "        Temperature in degrees Celsius (0°C does not mean the absence of temperature)\n",
    "        IQ scores (there's no absolute absence of intelligence)\n",
    "\n",
    "   Ratio Level: Ratio data have ordered categories with consistent intervals and a true zero point, which implies the absence of the attribute being measured. Examples include:\n",
    "        Age (0 years represents the absence of age)\n",
    "        Height in centimeters (0 cm represents the absence of height)"
   ]
  },
  {
   "cell_type": "markdown",
   "id": "558da627",
   "metadata": {},
   "source": [
    "Q6. Why is it important to understand the level of measurement when analyzing data? Provide an\n",
    "example to illustrate your answer.\n"
   ]
  },
  {
   "cell_type": "markdown",
   "id": "632553e9",
   "metadata": {},
   "source": [
    "Understanding the level of measurement is crucial in data analysis because it determines the types of statistical analyses and operations that can be performed on the data. For example, you cannot perform certain mathematical operations on nominal or ordinal data, but you can on interval and ratio data.\n",
    "\n",
    "Example: Suppose you are analyzing the performance of employees using a satisfaction rating scale (ordinal data) and you want to calculate the average satisfaction score. You can compute the mean, but you cannot conclude that a 4 is \"twice as satisfied\" as a 2 because the intervals between ratings are not equal. This could lead to misleading interpretations."
   ]
  },
  {
   "cell_type": "markdown",
   "id": "cf090adc",
   "metadata": {},
   "source": [
    "Q7. How nominal data type is different from ordinal data type."
   ]
  },
  {
   "cell_type": "markdown",
   "id": "fd84b3f6",
   "metadata": {},
   "source": [
    "Nominal data consist of categories or labels with no inherent order. Ordinal data, on the other hand, have ordered categories with a meaningful ranking. The key difference is that ordinal data have an inherent order, while nominal data do not. For example, education levels (e.g., high school, bachelor's, master's) are ordinal because they have a meaningful order, while types of fruits (e.g., apples, bananas, oranges) are nominal because there is no inherent order."
   ]
  },
  {
   "cell_type": "markdown",
   "id": "f4468eb9",
   "metadata": {},
   "source": [
    "Q8. Which type of plot can be used to display data in terms of range?"
   ]
  },
  {
   "cell_type": "markdown",
   "id": "bf5506c0",
   "metadata": {},
   "source": [
    "A box plot (or box-and-whisker plot) is a type of plot used to display data in terms of range. It provides a visual representation of the minimum, first quartile, median, third quartile, and maximum values in a dataset, allowing you to quickly assess the spread and central tendency of the data."
   ]
  },
  {
   "cell_type": "markdown",
   "id": "8fb516ac",
   "metadata": {},
   "source": [
    "Q9. Describe the difference between descriptive and inferential statistics. Give an example of each\n",
    "type of statistics and explain how they are used."
   ]
  },
  {
   "cell_type": "markdown",
   "id": "47c06ba9",
   "metadata": {},
   "source": [
    "1. Descriptive statistics - the activity of summarizing and orgainizing data falls in this. This is done at the base level once the data is made avaialaible. It provides the view of data on various levels and on different aggregate levels. Example includes measure of central tendency , measure of dispersion , graphical visualization\n",
    "\n",
    "2. Inferential Statistics - the activity of making inferences and coclusion of the organizaed and summarized data comes in this. It includes hypothesis testing , and lot more"
   ]
  },
  {
   "cell_type": "markdown",
   "id": "e0030c7a",
   "metadata": {},
   "source": [
    "Q10. What are some common measures of central tendency and variability used in statistics? Explain\n",
    "how each measure can be used to describe a dataset."
   ]
  },
  {
   "cell_type": "markdown",
   "id": "b470ee5a",
   "metadata": {},
   "source": [
    "   Measures of Central Tendency:\n",
    "        Mean: The average of a set of values. It's calculated by adding all values and dividing by the number of values.\n",
    "        Median: The middle value in a dataset when values are arranged in order. It's not affected by extreme outliers.\n",
    "        Mode: The most frequently occurring value in a dataset.\n",
    "   \n",
    "   Measures of Variability:\n",
    "        Range: The difference between the maximum and minimum values in a dataset, indicating the spread.\n",
    "        \n",
    "  Variance: A measure of how much data points vary from the mean. It quantifies the average of the squared differences from the mean.\n",
    "        Standard Deviation: The square root of the variance. It provides a more interpretable measure of the spread of data."
   ]
  },
  {
   "cell_type": "code",
   "execution_count": null,
   "id": "91707603",
   "metadata": {},
   "outputs": [],
   "source": []
  }
 ],
 "metadata": {
  "kernelspec": {
   "display_name": "Python 3 (ipykernel)",
   "language": "python",
   "name": "python3"
  },
  "language_info": {
   "codemirror_mode": {
    "name": "ipython",
    "version": 3
   },
   "file_extension": ".py",
   "mimetype": "text/x-python",
   "name": "python",
   "nbconvert_exporter": "python",
   "pygments_lexer": "ipython3",
   "version": "3.9.6"
  }
 },
 "nbformat": 4,
 "nbformat_minor": 5
}
